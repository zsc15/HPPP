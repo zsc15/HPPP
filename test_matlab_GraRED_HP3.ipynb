{
 "cells": [
  {
   "cell_type": "code",
   "execution_count": 1,
   "metadata": {},
   "outputs": [],
   "source": [
    "import matlab\n",
    "import matlab.engine as meng\n",
    "import os\n",
    "os.chdir('/MDL_img')"
   ]
  },
  {
   "cell_type": "code",
   "execution_count": 2,
   "metadata": {},
   "outputs": [
    {
     "name": "stdout",
     "output_type": "stream",
     "text": [
      "Light mode option is off. Reproducing the result in RED paper.\n",
      "Reading butterfly.tif image... Done.\n",
      "Test case: UniformBlur degradation model.\n",
      "Blurring... Adding noise... Done.\n",
      "Restoring using Gradient Halpern RED P3: GraRED-HP3\n",
      "\n",
      "ans =\n",
      "\n",
      "    1.4142\n",
      "\n",
      "\n",
      "prox_norm =\n",
      "\n",
      "  627.4807\n",
      "\n",
      "\n",
      "prox_norm1 =\n",
      "\n",
      "   7.2645e+03\n",
      "\n",
      "   iter\t      PSNR\t   objective\n",
      "Starting parallel pool (parpool) using the 'Processes' profile ...\n",
      "Connected to the parallel pool (number of workers: 12).\n",
      "    120     29.88348  17813.20289 \n",
      "    240     30.62293  17504.50250 \n",
      "    360     30.78221  17441.23488 \n",
      "    480     30.82372  17421.28843 \n",
      "    600     30.84496  17414.18458 \n",
      "    720     30.85752  17416.53822 \n",
      "    840     30.86720  17422.10966 \n",
      "    960     30.87508  17424.23732 \n",
      "   1080     30.88083  17426.24514 \n",
      "   1200     30.88598  17427.71119 \n",
      "\n",
      "ans =\n",
      "\n",
      "  -17.2448\n",
      "\n",
      "Done.\n"
     ]
    }
   ],
   "source": [
    "eng = meng.start_matlab()\n",
    "eng.main_GraRED_HP3(nargout=0)"
   ]
  }
 ],
 "metadata": {
  "kernelspec": {
   "display_name": "Python 3",
   "language": "python",
   "name": "python3"
  },
  "language_info": {
   "codemirror_mode": {
    "name": "ipython",
    "version": 3
   },
   "file_extension": ".py",
   "mimetype": "text/x-python",
   "name": "python",
   "nbconvert_exporter": "python",
   "pygments_lexer": "ipython3",
   "version": "3.10.12"
  }
 },
 "nbformat": 4,
 "nbformat_minor": 2
}
